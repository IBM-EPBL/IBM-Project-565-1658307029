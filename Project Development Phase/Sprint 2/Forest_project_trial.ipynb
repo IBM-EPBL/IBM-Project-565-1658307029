{
 "cells": [
  {
   "cell_type": "markdown",
   "id": "bf89ec50",
   "metadata": {},
   "source": [
    "# Building the libraries"
   ]
  },
  {
   "cell_type": "code",
   "execution_count": 1,
   "id": "1316a80d",
   "metadata": {},
   "outputs": [],
   "source": [
    "from tensorflow.keras.models import Sequential\n",
    "from tensorflow.keras.layers import Dense"
   ]
  },
  {
   "cell_type": "code",
   "execution_count": 2,
   "id": "d283724c",
   "metadata": {},
   "outputs": [],
   "source": [
    "from tensorflow.keras.layers import Convolution2D\n",
    "from tensorflow.keras.layers import MaxPooling2D\n",
    "from tensorflow.keras.layers import Flatten"
   ]
  },
  {
   "cell_type": "code",
   "execution_count": 3,
   "id": "c855222c",
   "metadata": {},
   "outputs": [],
   "source": [
    "#import the preprocess library of image"
   ]
  },
  {
   "cell_type": "code",
   "execution_count": 7,
   "id": "5891f171",
   "metadata": {},
   "outputs": [],
   "source": [
    "from tensorflow.keras.preprocessing.image import ImageDataGenerator"
   ]
  },
  {
   "cell_type": "code",
   "execution_count": 8,
   "id": "8b715e21",
   "metadata": {},
   "outputs": [],
   "source": [
    "train_datagen = ImageDataGenerator(rescale=1./255,shear_range=0.2,zoom_range=0.2,horizontal_flip=True,vertical_flip=True)\n",
    "#rescale =  pixel value rescaling to 0 to 1 from 0 to 255\n",
    "#shear_range => counter clock wise rotation(anti clock)"
   ]
  },
  {
   "cell_type": "code",
   "execution_count": 9,
   "id": "090cfd93",
   "metadata": {},
   "outputs": [],
   "source": [
    "test_datagen  = ImageDataGenerator(rescale=1./255)"
   ]
  },
  {
   "cell_type": "code",
   "execution_count": 10,
   "id": "595d8cbf",
   "metadata": {},
   "outputs": [],
   "source": [
    "#load your images data"
   ]
  },
  {
   "cell_type": "code",
   "execution_count": 11,
   "id": "5b4bf331",
   "metadata": {},
   "outputs": [
    {
     "name": "stdout",
     "output_type": "stream",
     "text": [
      "Found 436 images belonging to 2 classes.\n"
     ]
    }
   ],
   "source": [
    "x_train = train_datagen.flow_from_directory(r\"D:\\IBM project\\DATASET FOREST FIRES\\Dataset\\Dataset\\train_set\",target_size=(64,64),batch_size=32,class_mode=\"binary\")"
   ]
  },
  {
   "cell_type": "code",
   "execution_count": 12,
   "id": "80d544c5",
   "metadata": {},
   "outputs": [
    {
     "name": "stdout",
     "output_type": "stream",
     "text": [
      "Found 121 images belonging to 2 classes.\n"
     ]
    }
   ],
   "source": [
    "x_test = test_datagen.flow_from_directory(r\"D:\\IBM project\\DATASET FOREST FIRES\\Dataset\\Dataset\\test_set\",target_size=(64,64),batch_size=32,class_mode=\"binary\")"
   ]
  },
  {
   "cell_type": "code",
   "execution_count": 13,
   "id": "f6910e22",
   "metadata": {},
   "outputs": [
    {
     "data": {
      "text/plain": [
       "{'no fire': 0, 'with fire': 1}"
      ]
     },
     "execution_count": 13,
     "metadata": {},
     "output_type": "execute_result"
    }
   ],
   "source": [
    "x_train.class_indices"
   ]
  },
  {
   "cell_type": "code",
   "execution_count": 14,
   "id": "d789e193",
   "metadata": {},
   "outputs": [],
   "source": [
    "#initialize the model"
   ]
  },
  {
   "cell_type": "code",
   "execution_count": 15,
   "id": "b0f2bb50",
   "metadata": {},
   "outputs": [],
   "source": [
    "model = Sequential()"
   ]
  },
  {
   "cell_type": "code",
   "execution_count": 16,
   "id": "ea743a11",
   "metadata": {},
   "outputs": [],
   "source": [
    "#add covlution layer\n",
    "model.add(Convolution2D(32,(3,3),input_shape=(64,64,3),activation='relu'))\n",
    "# 32 => no of feature detectors\n",
    "#(3,3)=> kernel size(feature detector size => 3*3 matrix)"
   ]
  },
  {
   "cell_type": "code",
   "execution_count": 17,
   "id": "244e7115",
   "metadata": {},
   "outputs": [],
   "source": [
    "#add maxpooling layer\n",
    "model.add(MaxPooling2D(pool_size=(2,2)))"
   ]
  },
  {
   "cell_type": "code",
   "execution_count": 18,
   "id": "95599c01",
   "metadata": {},
   "outputs": [],
   "source": [
    "# you can add more convolutiona and pooling layers"
   ]
  },
  {
   "cell_type": "code",
   "execution_count": 19,
   "id": "d146d62f",
   "metadata": {},
   "outputs": [],
   "source": [
    "#flatten layer => input layer to your ANN\n",
    "model.add(Flatten())"
   ]
  },
  {
   "cell_type": "code",
   "execution_count": 20,
   "id": "9f1f8368",
   "metadata": {},
   "outputs": [],
   "source": [
    "#hidden layers"
   ]
  },
  {
   "cell_type": "code",
   "execution_count": 21,
   "id": "96ebe7a4",
   "metadata": {},
   "outputs": [],
   "source": [
    "model.add(Dense(units=300,kernel_initializer=\"random_uniform\",activation=\"relu\"))"
   ]
  },
  {
   "cell_type": "code",
   "execution_count": 22,
   "id": "de2b9012",
   "metadata": {},
   "outputs": [],
   "source": [
    "model.add(Dense(units=200,kernel_initializer=\"random_uniform\",activation=\"relu\"))"
   ]
  },
  {
   "cell_type": "code",
   "execution_count": 23,
   "id": "12e3eeb1",
   "metadata": {},
   "outputs": [],
   "source": [
    "#output layer"
   ]
  },
  {
   "cell_type": "code",
   "execution_count": 24,
   "id": "e276562a",
   "metadata": {},
   "outputs": [],
   "source": [
    "model.add(Dense(units=1,kernel_initializer=\"random_uniform\",activation=\"sigmoid\"))"
   ]
  },
  {
   "cell_type": "code",
   "execution_count": 25,
   "id": "77de78b4",
   "metadata": {},
   "outputs": [],
   "source": [
    "#compile the model\n",
    "model.compile(loss=\"binary_crossentropy\",optimizer=\"adam\",metrics=[\"accuracy\"])"
   ]
  },
  {
   "cell_type": "code",
   "execution_count": 26,
   "id": "2f4f3eb5",
   "metadata": {},
   "outputs": [],
   "source": [
    "#train the model"
   ]
  },
  {
   "cell_type": "code",
   "execution_count": 27,
   "id": "7d39a181",
   "metadata": {},
   "outputs": [
    {
     "name": "stdout",
     "output_type": "stream",
     "text": [
      "Epoch 1/25\n",
      "14/14 [==============================] - 36s 2s/step - loss: 0.4844 - accuracy: 0.7752 - val_loss: 0.1441 - val_accuracy: 0.9587\n",
      "Epoch 2/25\n",
      "14/14 [==============================] - 27s 2s/step - loss: 0.2721 - accuracy: 0.8899 - val_loss: 0.0761 - val_accuracy: 0.9835\n",
      "Epoch 3/25\n",
      "14/14 [==============================] - 34s 2s/step - loss: 0.2422 - accuracy: 0.8899 - val_loss: 0.1310 - val_accuracy: 0.9339\n",
      "Epoch 4/25\n",
      "14/14 [==============================] - 34s 2s/step - loss: 0.2179 - accuracy: 0.9060 - val_loss: 0.0657 - val_accuracy: 0.9752\n",
      "Epoch 5/25\n",
      "14/14 [==============================] - 34s 2s/step - loss: 0.1766 - accuracy: 0.9289 - val_loss: 0.0449 - val_accuracy: 0.9835\n",
      "Epoch 6/25\n",
      "14/14 [==============================] - 33s 2s/step - loss: 0.1644 - accuracy: 0.9312 - val_loss: 0.0287 - val_accuracy: 0.9917\n",
      "Epoch 7/25\n",
      "14/14 [==============================] - 34s 3s/step - loss: 0.2290 - accuracy: 0.9037 - val_loss: 0.0469 - val_accuracy: 0.9835\n",
      "Epoch 8/25\n",
      "14/14 [==============================] - 34s 3s/step - loss: 0.2379 - accuracy: 0.8693 - val_loss: 0.0735 - val_accuracy: 1.0000\n",
      "Epoch 9/25\n",
      "14/14 [==============================] - 34s 3s/step - loss: 0.1721 - accuracy: 0.9312 - val_loss: 0.0290 - val_accuracy: 1.0000\n",
      "Epoch 10/25\n",
      "14/14 [==============================] - 34s 2s/step - loss: 0.1638 - accuracy: 0.9266 - val_loss: 0.0264 - val_accuracy: 0.9917\n",
      "Epoch 11/25\n",
      "14/14 [==============================] - 34s 2s/step - loss: 0.1564 - accuracy: 0.9243 - val_loss: 0.0492 - val_accuracy: 0.9835\n",
      "Epoch 12/25\n",
      "14/14 [==============================] - 34s 2s/step - loss: 0.1334 - accuracy: 0.9358 - val_loss: 0.0354 - val_accuracy: 0.9835\n",
      "Epoch 13/25\n",
      "14/14 [==============================] - 34s 3s/step - loss: 0.1181 - accuracy: 0.9564 - val_loss: 0.0126 - val_accuracy: 1.0000\n",
      "Epoch 14/25\n",
      "14/14 [==============================] - 34s 2s/step - loss: 0.1051 - accuracy: 0.9564 - val_loss: 0.0164 - val_accuracy: 0.9917\n",
      "Epoch 15/25\n",
      "14/14 [==============================] - 34s 2s/step - loss: 0.1375 - accuracy: 0.9358 - val_loss: 0.0116 - val_accuracy: 1.0000\n",
      "Epoch 16/25\n",
      "14/14 [==============================] - 34s 2s/step - loss: 0.1043 - accuracy: 0.9450 - val_loss: 0.0223 - val_accuracy: 0.9917\n",
      "Epoch 17/25\n",
      "14/14 [==============================] - 34s 3s/step - loss: 0.1354 - accuracy: 0.9495 - val_loss: 0.1052 - val_accuracy: 0.9669\n",
      "Epoch 18/25\n",
      "14/14 [==============================] - 35s 2s/step - loss: 0.1838 - accuracy: 0.9266 - val_loss: 0.0621 - val_accuracy: 0.9835\n",
      "Epoch 19/25\n",
      "14/14 [==============================] - 34s 3s/step - loss: 0.1516 - accuracy: 0.9358 - val_loss: 0.0441 - val_accuracy: 0.9917\n",
      "Epoch 20/25\n",
      "14/14 [==============================] - 34s 3s/step - loss: 0.1097 - accuracy: 0.9587 - val_loss: 0.0395 - val_accuracy: 0.9835\n",
      "Epoch 21/25\n",
      "14/14 [==============================] - 33s 2s/step - loss: 0.1207 - accuracy: 0.9472 - val_loss: 0.0421 - val_accuracy: 0.9835\n",
      "Epoch 22/25\n",
      "14/14 [==============================] - 34s 2s/step - loss: 0.1187 - accuracy: 0.9610 - val_loss: 0.0210 - val_accuracy: 0.9917\n",
      "Epoch 23/25\n",
      "14/14 [==============================] - 34s 3s/step - loss: 0.0925 - accuracy: 0.9679 - val_loss: 0.0257 - val_accuracy: 0.9917\n",
      "Epoch 24/25\n",
      "14/14 [==============================] - 34s 2s/step - loss: 0.0813 - accuracy: 0.9679 - val_loss: 0.0312 - val_accuracy: 0.9835\n",
      "Epoch 25/25\n",
      "14/14 [==============================] - 34s 2s/step - loss: 0.1051 - accuracy: 0.9518 - val_loss: 0.0131 - val_accuracy: 0.9917\n"
     ]
    },
    {
     "data": {
      "text/plain": [
       "<keras.callbacks.History at 0x204f1d3a700>"
      ]
     },
     "execution_count": 27,
     "metadata": {},
     "output_type": "execute_result"
    }
   ],
   "source": [
    "model.fit(x_train,steps_per_epoch=14,epochs=25,validation_data=x_test,validation_steps=4)\n",
    "#steps_per_epoch = no of train images/batch size --> 436/32 = 13.625\n",
    "#validation_steps = no of test images/batch size --> 121/32 = 3.78125"
   ]
  },
  {
   "cell_type": "code",
   "execution_count": 28,
   "id": "75a04572",
   "metadata": {},
   "outputs": [],
   "source": [
    "model.save(\"forest_trial.h5\")"
   ]
  },
  {
   "cell_type": "markdown",
   "id": "5570dee0",
   "metadata": {},
   "source": [
    "# Test The Model"
   ]
  },
  {
   "cell_type": "code",
   "execution_count": 1,
   "id": "199a250c",
   "metadata": {},
   "outputs": [],
   "source": [
    "from tensorflow.keras.models import load_model\n",
    "from tensorflow.keras.preprocessing import image\n",
    "import numpy as np"
   ]
  },
  {
   "cell_type": "code",
   "execution_count": 2,
   "id": "83e47a3c",
   "metadata": {},
   "outputs": [],
   "source": [
    "model = load_model(\"forest_trial.h5\")"
   ]
  },
  {
   "cell_type": "code",
   "execution_count": 15,
   "id": "3591460c",
   "metadata": {},
   "outputs": [],
   "source": [
    "img = image.load_img(r\"fire_test.jpg\",target_size=(64,64))"
   ]
  },
  {
   "cell_type": "code",
   "execution_count": 16,
   "id": "eb4c21ad",
   "metadata": {},
   "outputs": [
    {
     "data": {
      "image/png": "[encoded data removed]",
      "text/plain": [
       "<PIL.Image.Image image mode=RGB size=64x64 at 0x23FCC017CA0>"
      ]
     },
     "execution_count": 16,
     "metadata": {},
     "output_type": "execute_result"
    }
   ],
   "source": [
    "img"
   ]
  },
  {
   "cell_type": "code",
   "execution_count": 17,
   "id": "e4163cf5",
   "metadata": {},
   "outputs": [],
   "source": [
    "x = image.img_to_array(img)"
   ]
  },
  {
   "cell_type": "code",
   "execution_count": 18,
   "id": "2712ea8b",
   "metadata": {},
   "outputs": [
    {
     "data": {
      "text/plain": [
       "array([[[ 62.,  78.,  42.],\n",
       "        [  4.,  23.,   0.],\n",
       "        [ 10.,  23.,  14.],\n",
       "        ...,\n",
       "        [112.,  47.,  41.],\n",
       "        [116.,  50.,  52.],\n",
       "        [112.,  53.,  55.]],\n",
       "\n",
       "       [[  7.,   0.,   0.],\n",
       "        [ 48.,  50.,  28.],\n",
       "        [ 60.,  80.,  55.],\n",
       "        ...,\n",
       "        [110.,  45.,  43.],\n",
       "        [110.,  50.,  50.],\n",
       "        [124.,  59.,  55.]],\n",
       "\n",
       "       [[ 47.,  41.,  19.],\n",
       "        [ 23.,  18.,   0.],\n",
       "        [ 34.,  38.,  23.],\n",
       "        ...,\n",
       "        [108.,  43.,  41.],\n",
       "        [116.,  47.,  42.],\n",
       "        [122.,  57.,  51.]],\n",
       "\n",
       "       ...,\n",
       "\n",
       "       [[ 44.,  40.,  28.],\n",
       "        [ 73.,  43.,  51.],\n",
       "        [ 71.,  58.,  50.],\n",
       "        ...,\n",
       "        [ 64.,  32.,  33.],\n",
       "        [ 76.,  52.,  50.],\n",
       "        [ 77.,  46.,  43.]],\n",
       "\n",
       "       [[ 47.,  24.,  18.],\n",
       "        [ 61.,  38.,  46.],\n",
       "        [ 87.,  69.,  65.],\n",
       "        ...,\n",
       "        [ 75.,  60.,  65.],\n",
       "        [ 80.,  52.,  51.],\n",
       "        [ 78.,  55.,  47.]],\n",
       "\n",
       "       [[ 56.,  24.,  25.],\n",
       "        [ 77.,  51.,  60.],\n",
       "        [ 55.,  35.,  37.],\n",
       "        ...,\n",
       "        [123., 114., 115.],\n",
       "        [ 83.,  61.,  63.],\n",
       "        [ 58.,  27.,  25.]]], dtype=float32)"
      ]
     },
     "execution_count": 18,
     "metadata": {},
     "output_type": "execute_result"
    }
   ],
   "source": [
    "x"
   ]
  },
  {
   "cell_type": "code",
   "execution_count": 19,
   "id": "856ae5ba",
   "metadata": {},
   "outputs": [
    {
     "data": {
      "text/plain": [
       "(64, 64, 3)"
      ]
     },
     "execution_count": 19,
     "metadata": {},
     "output_type": "execute_result"
    }
   ],
   "source": [
    "x.shape"
   ]
  },
  {
   "cell_type": "code",
   "execution_count": 20,
   "id": "a2b88328",
   "metadata": {},
   "outputs": [],
   "source": [
    "#(1,64,64,3) to expand the dims"
   ]
  },
  {
   "cell_type": "code",
   "execution_count": 21,
   "id": "ab35ed51",
   "metadata": {},
   "outputs": [
    {
     "data": {
      "text/plain": [
       "(1, 64, 64, 3)"
      ]
     },
     "execution_count": 21,
     "metadata": {},
     "output_type": "execute_result"
    }
   ],
   "source": [
    "x = np.expand_dims(x,axis=0)\n",
    "x.shape"
   ]
  },
  {
   "cell_type": "code",
   "execution_count": 22,
   "id": "9f62e979",
   "metadata": {},
   "outputs": [
    {
     "name": "stdout",
     "output_type": "stream",
     "text": [
      "1/1 [==============================] - 0s 56ms/step\n"
     ]
    }
   ],
   "source": [
    "pred_prob = model.predict(x)"
   ]
  },
  {
   "cell_type": "code",
   "execution_count": 23,
   "id": "a9d770e1",
   "metadata": {},
   "outputs": [
    {
     "data": {
      "text/plain": [
       "array([[1.]], dtype=float32)"
      ]
     },
     "execution_count": 23,
     "metadata": {},
     "output_type": "execute_result"
    }
   ],
   "source": [
    "pred_prob"
   ]
  },
  {
   "cell_type": "code",
   "execution_count": 24,
   "id": "6e43fac9",
   "metadata": {},
   "outputs": [
    {
     "name": "stdout",
     "output_type": "stream",
     "text": [
      "Fire is Detected !\n"
     ]
    }
   ],
   "source": [
    "if(pred_prob[0]==0):\n",
    "    print('No fire is Detected')\n",
    "else:\n",
    "    print('Fire is Detected !')"
   ]
  },
  {
   "cell_type": "code",
   "execution_count": null,
   "id": "257ee3e6",
   "metadata": {},
   "outputs": [],
   "source": []
  }
 ],
 "metadata": {
  "kernelspec": {
   "display_name": "Python 3 (ipykernel)",
   "language": "python",
   "name": "python3"
  },
  "language_info": {
   "codemirror_mode": {
    "name": "ipython",
    "version": 3
   },
   "file_extension": ".py",
   "mimetype": "text/x-python",
   "name": "python",
   "nbconvert_exporter": "python",
   "pygments_lexer": "ipython3",
   "version": "3.9.12"
  }
 },
 "nbformat": 4,
 "nbformat_minor": 5
}
