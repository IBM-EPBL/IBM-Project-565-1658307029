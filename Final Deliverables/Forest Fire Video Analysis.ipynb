{
 "cells": [
  {
   "cell_type": "markdown",
   "id": "2eb90226",
   "metadata": {},
   "source": [
    "# Fire detection and sending alert message"
   ]
  },
  {
   "cell_type": "code",
   "execution_count": 1,
   "id": "619e3ef0",
   "metadata": {},
   "outputs": [],
   "source": [
    "from tensorflow.keras.models import load_model\n",
    "from tensorflow.keras.preprocessing import image\n",
    "import numpy as np\n",
    "import cv2"
   ]
  },
  {
   "cell_type": "markdown",
   "id": "7e51f03c",
   "metadata": {},
   "source": [
    "## Loading the trained model"
   ]
  },
  {
   "cell_type": "code",
   "execution_count": 3,
   "id": "abd229f9",
   "metadata": {},
   "outputs": [],
   "source": [
    "model = load_model(\"forest_trial.h5\")"
   ]
  },
  {
   "cell_type": "markdown",
   "id": "f4f6598a",
   "metadata": {},
   "source": [
    "## Twilio - Sending alert messages"
   ]
  },
  {
   "cell_type": "code",
   "execution_count": 4,
   "id": "f1ad4a86",
   "metadata": {},
   "outputs": [],
   "source": [
    "import os\n",
    "from twilio.rest import Client\n",
    "from playsound import playsound"
   ]
  },
  {
   "cell_type": "code",
   "execution_count": 5,
   "id": "72641408",
   "metadata": {},
   "outputs": [],
   "source": [
    "def alert():\n",
    "    account_sid = 'AC86b4514529f62e8c8003c3455faa95af'\n",
    "    auth_token = 'c6abe266703c45e7d42d60ca7218e246'\n",
    "    client = Client(account_sid, auth_token)\n",
    "\n",
    "    message = client.messages.create(\n",
    "      body='FOREST FIRE IS DETECTED ,STAY ALERT',\n",
    "      from_='+447360268879',\n",
    "      to='+919346593744'\n",
    "    )\n",
    "    print(message.sid)\n",
    "    print('SMS sent !')"
   ]
  },
  {
   "cell_type": "markdown",
   "id": "90afc011",
   "metadata": {},
   "source": [
    "## Video Analysis using OpenCV and sending alert message"
   ]
  },
  {
   "cell_type": "code",
   "execution_count": 6,
   "id": "bf80c6f1",
   "metadata": {},
   "outputs": [
    {
     "name": "stdout",
     "output_type": "stream",
     "text": [
      "1/1 [==============================] - 1s 564ms/step\n",
      "No fire is Detected\n",
      "1/1 [==============================] - 0s 118ms/step\n",
      "No fire is Detected\n",
      "1/1 [==============================] - 0s 117ms/step\n",
      "No fire is Detected\n",
      "1/1 [==============================] - 0s 49ms/step\n",
      "No fire is Detected\n",
      "1/1 [==============================] - 0s 69ms/step\n",
      "No fire is Detected\n",
      "1/1 [==============================] - 0s 76ms/step\n",
      "No fire is Detected\n",
      "1/1 [==============================] - 0s 77ms/step\n",
      "No fire is Detected\n",
      "1/1 [==============================] - 0s 63ms/step\n",
      "No fire is Detected\n",
      "1/1 [==============================] - 0s 52ms/step\n",
      "No fire is Detected\n",
      "1/1 [==============================] - 0s 83ms/step\n",
      "No fire is Detected\n",
      "1/1 [==============================] - 0s 49ms/step\n",
      "No fire is Detected\n",
      "1/1 [==============================] - 0s 58ms/step\n",
      "No fire is Detected\n",
      "1/1 [==============================] - 0s 55ms/step\n",
      "No fire is Detected\n",
      "1/1 [==============================] - 0s 55ms/step\n",
      "No fire is Detected\n",
      "1/1 [==============================] - 0s 57ms/step\n",
      "No fire is Detected\n",
      "1/1 [==============================] - 0s 70ms/step\n",
      "No fire is Detected\n",
      "1/1 [==============================] - 0s 59ms/step\n",
      "No fire is Detected\n",
      "1/1 [==============================] - 0s 57ms/step\n",
      "No fire is Detected\n",
      "1/1 [==============================] - 0s 55ms/step\n",
      "No fire is Detected\n",
      "1/1 [==============================] - 0s 56ms/step\n",
      "No fire is Detected\n",
      "1/1 [==============================] - 0s 50ms/step\n",
      "No fire is Detected\n",
      "1/1 [==============================] - 0s 63ms/step\n",
      "No fire is Detected\n",
      "1/1 [==============================] - 0s 61ms/step\n",
      "No fire is Detected\n",
      "1/1 [==============================] - 0s 58ms/step\n",
      "No fire is Detected\n",
      "1/1 [==============================] - 0s 170ms/step\n",
      "No fire is Detected\n",
      "1/1 [==============================] - 0s 48ms/step\n",
      "No fire is Detected\n",
      "1/1 [==============================] - 0s 55ms/step\n",
      "No fire is Detected\n",
      "1/1 [==============================] - 0s 52ms/step\n",
      "No fire is Detected\n",
      "1/1 [==============================] - 0s 51ms/step\n",
      "No fire is Detected\n",
      "1/1 [==============================] - 0s 63ms/step\n",
      "No fire is Detected\n",
      "1/1 [==============================] - 0s 58ms/step\n",
      "No fire is Detected\n",
      "1/1 [==============================] - 0s 59ms/step\n",
      "No fire is Detected\n",
      "1/1 [==============================] - 0s 50ms/step\n",
      "No fire is Detected\n",
      "1/1 [==============================] - 0s 63ms/step\n",
      "No fire is Detected\n",
      "1/1 [==============================] - 0s 79ms/step\n",
      "No fire is Detected\n",
      "1/1 [==============================] - 0s 60ms/step\n",
      "No fire is Detected\n",
      "1/1 [==============================] - 0s 52ms/step\n",
      "No fire is Detected\n",
      "1/1 [==============================] - 0s 78ms/step\n",
      "No fire is Detected\n",
      "1/1 [==============================] - 0s 51ms/step\n",
      "No fire is Detected\n",
      "1/1 [==============================] - 0s 55ms/step\n",
      "No fire is Detected\n",
      "1/1 [==============================] - 0s 58ms/step\n",
      "No fire is Detected\n",
      "1/1 [==============================] - 0s 77ms/step\n",
      "No fire is Detected\n",
      "1/1 [==============================] - 0s 63ms/step\n",
      "No fire is Detected\n",
      "1/1 [==============================] - 0s 54ms/step\n",
      "No fire is Detected\n",
      "1/1 [==============================] - 0s 58ms/step\n",
      "No fire is Detected\n",
      "1/1 [==============================] - 0s 61ms/step\n",
      "No fire is Detected\n",
      "1/1 [==============================] - 0s 69ms/step\n",
      "No fire is Detected\n",
      "1/1 [==============================] - 0s 56ms/step\n",
      "No fire is Detected\n",
      "1/1 [==============================] - 0s 54ms/step\n",
      "No fire is Detected\n",
      "1/1 [==============================] - 0s 53ms/step\n",
      "No fire is Detected\n",
      "1/1 [==============================] - 0s 50ms/step\n",
      "No fire is Detected\n",
      "1/1 [==============================] - 0s 56ms/step\n",
      "No fire is Detected\n",
      "1/1 [==============================] - 0s 54ms/step\n",
      "No fire is Detected\n",
      "1/1 [==============================] - 0s 65ms/step\n",
      "No fire is Detected\n",
      "1/1 [==============================] - 0s 83ms/step\n",
      "No fire is Detected\n",
      "1/1 [==============================] - 0s 49ms/step\n",
      "Fire is Detected !\n",
      "1/1 [==============================] - 0s 99ms/step\n",
      "Fire is Detected !\n"
     ]
    },
    {
     "ename": "FileNotFoundError",
     "evalue": "[Errno 2] No such file or directory: 'Fire Alarm.mpeg'",
     "output_type": "error",
     "traceback": [
      "\u001b[1;31m---------------------------------------------------------------------------\u001b[0m",
      "\u001b[1;31mFileNotFoundError\u001b[0m                         Traceback (most recent call last)",
      "Input \u001b[1;32mIn [6]\u001b[0m, in \u001b[0;36m<cell line: 7>\u001b[1;34m()\u001b[0m\n\u001b[0;32m     20\u001b[0m \u001b[38;5;28mprint\u001b[39m(\u001b[38;5;124m'\u001b[39m\u001b[38;5;124mFire is Detected !\u001b[39m\u001b[38;5;124m'\u001b[39m)\n\u001b[0;32m     21\u001b[0m \u001b[38;5;28;01mif\u001b[39;00m k\u001b[38;5;241m==\u001b[39m\u001b[38;5;241m1\u001b[39m:\n\u001b[1;32m---> 22\u001b[0m     \u001b[43mplaysound\u001b[49m\u001b[43m(\u001b[49m\u001b[38;5;124;43mr\u001b[39;49m\u001b[38;5;124;43m\"\u001b[39;49m\u001b[38;5;124;43mFire Alarm.mpeg\u001b[39;49m\u001b[38;5;124;43m\"\u001b[39;49m\u001b[43m)\u001b[49m\n\u001b[0;32m     23\u001b[0m     \u001b[38;5;66;03m# alert()\u001b[39;00m\n\u001b[0;32m     24\u001b[0m k\u001b[38;5;241m=\u001b[39mk\u001b[38;5;241m+\u001b[39m\u001b[38;5;241m1\u001b[39m\n",
      "File \u001b[1;32m~\\anaconda3\\lib\\site-packages\\playsound.py:41\u001b[0m, in \u001b[0;36m_playsoundWin\u001b[1;34m(sound, block)\u001b[0m\n\u001b[0;32m     39\u001b[0m fd, tempPath \u001b[38;5;241m=\u001b[39m mkstemp(prefix \u001b[38;5;241m=\u001b[39m \u001b[38;5;124m'\u001b[39m\u001b[38;5;124mPS\u001b[39m\u001b[38;5;124m'\u001b[39m, suffix \u001b[38;5;241m=\u001b[39m splitext(sound)[\u001b[38;5;241m1\u001b[39m])  \u001b[38;5;66;03m# Avoid generating files longer than 8.3 characters.\u001b[39;00m\n\u001b[0;32m     40\u001b[0m logger\u001b[38;5;241m.\u001b[39minfo(\u001b[38;5;124m'\u001b[39m\u001b[38;5;124mMade a temporary copy of \u001b[39m\u001b[38;5;132;01m{}\u001b[39;00m\u001b[38;5;124m at \u001b[39m\u001b[38;5;132;01m{}\u001b[39;00m\u001b[38;5;124m - use other filenames with only safe characters to avoid this.\u001b[39m\u001b[38;5;124m'\u001b[39m\u001b[38;5;241m.\u001b[39mformat(sound, tempPath))\n\u001b[1;32m---> 41\u001b[0m \u001b[43mcopy\u001b[49m\u001b[43m(\u001b[49m\u001b[43msound\u001b[49m\u001b[43m,\u001b[49m\u001b[43m \u001b[49m\u001b[43mtempPath\u001b[49m\u001b[43m)\u001b[49m\n\u001b[0;32m     42\u001b[0m close(fd)  \u001b[38;5;66;03m# mkstemp opens the file, but it must be closed before MCI can open it.\u001b[39;00m\n\u001b[0;32m     43\u001b[0m \u001b[38;5;28;01mtry\u001b[39;00m:\n",
      "File \u001b[1;32m~\\anaconda3\\lib\\shutil.py:427\u001b[0m, in \u001b[0;36mcopy\u001b[1;34m(src, dst, follow_symlinks)\u001b[0m\n\u001b[0;32m    425\u001b[0m \u001b[38;5;28;01mif\u001b[39;00m os\u001b[38;5;241m.\u001b[39mpath\u001b[38;5;241m.\u001b[39misdir(dst):\n\u001b[0;32m    426\u001b[0m     dst \u001b[38;5;241m=\u001b[39m os\u001b[38;5;241m.\u001b[39mpath\u001b[38;5;241m.\u001b[39mjoin(dst, os\u001b[38;5;241m.\u001b[39mpath\u001b[38;5;241m.\u001b[39mbasename(src))\n\u001b[1;32m--> 427\u001b[0m \u001b[43mcopyfile\u001b[49m\u001b[43m(\u001b[49m\u001b[43msrc\u001b[49m\u001b[43m,\u001b[49m\u001b[43m \u001b[49m\u001b[43mdst\u001b[49m\u001b[43m,\u001b[49m\u001b[43m \u001b[49m\u001b[43mfollow_symlinks\u001b[49m\u001b[38;5;241;43m=\u001b[39;49m\u001b[43mfollow_symlinks\u001b[49m\u001b[43m)\u001b[49m\n\u001b[0;32m    428\u001b[0m copymode(src, dst, follow_symlinks\u001b[38;5;241m=\u001b[39mfollow_symlinks)\n\u001b[0;32m    429\u001b[0m \u001b[38;5;28;01mreturn\u001b[39;00m dst\n",
      "File \u001b[1;32m~\\anaconda3\\lib\\shutil.py:264\u001b[0m, in \u001b[0;36mcopyfile\u001b[1;34m(src, dst, follow_symlinks)\u001b[0m\n\u001b[0;32m    262\u001b[0m     os\u001b[38;5;241m.\u001b[39msymlink(os\u001b[38;5;241m.\u001b[39mreadlink(src), dst)\n\u001b[0;32m    263\u001b[0m \u001b[38;5;28;01melse\u001b[39;00m:\n\u001b[1;32m--> 264\u001b[0m     \u001b[38;5;28;01mwith\u001b[39;00m \u001b[38;5;28;43mopen\u001b[39;49m\u001b[43m(\u001b[49m\u001b[43msrc\u001b[49m\u001b[43m,\u001b[49m\u001b[43m \u001b[49m\u001b[38;5;124;43m'\u001b[39;49m\u001b[38;5;124;43mrb\u001b[39;49m\u001b[38;5;124;43m'\u001b[39;49m\u001b[43m)\u001b[49m \u001b[38;5;28;01mas\u001b[39;00m fsrc:\n\u001b[0;32m    265\u001b[0m         \u001b[38;5;28;01mtry\u001b[39;00m:\n\u001b[0;32m    266\u001b[0m             \u001b[38;5;28;01mwith\u001b[39;00m \u001b[38;5;28mopen\u001b[39m(dst, \u001b[38;5;124m'\u001b[39m\u001b[38;5;124mwb\u001b[39m\u001b[38;5;124m'\u001b[39m) \u001b[38;5;28;01mas\u001b[39;00m fdst:\n\u001b[0;32m    267\u001b[0m                 \u001b[38;5;66;03m# macOS\u001b[39;00m\n",
      "\u001b[1;31mFileNotFoundError\u001b[0m: [Errno 2] No such file or directory: 'Fire Alarm.mpeg'"
     ]
    }
   ],
   "source": [
    "video = cv2.VideoCapture('Forest fire test video.mp4')  # Here try to put and see 0 ---> live video streaming\n",
    "                                           \n",
    "is_frame = True\n",
    "n = 2   # Frame intervals to detect\n",
    "cnt = n\n",
    "k=0\n",
    "while is_frame:\n",
    "    is_frame,frame = video.read() \n",
    "   \n",
    "    if is_frame and not cnt:  # cnt==0 --> then condition true\n",
    "        y = cv2.resize(frame,(256,256))\n",
    "        z = image.array_to_img(cv2.cvtColor(y, cv2.COLOR_BGR2RGB))  # z is of type <class 'PIL.Image.Image'>\n",
    "        x = np.expand_dims(z,axis=0) # x is of type <class 'numpy.ndarray'> and shape (1, 256, 256, 3)\n",
    "        pred_prob = model.predict(x)\n",
    "        if pred_prob[0] == 0: \n",
    "            cv2.putText(frame,\"No fire is Detected\",(100,50),cv2.FONT_HERSHEY_COMPLEX,2,(255,255,255),5)\n",
    "            print('No fire is Detected')\n",
    "        else:\n",
    "            cv2.putText(frame,\"Fire is Detected !\",(100,50),cv2.FONT_HERSHEY_COMPLEX,2,(0,0,255),5)\n",
    "            print('Fire is Detected !')\n",
    "            if k==1:\n",
    "                playsound(r\"Fire Alarm sound.mpeg\")\n",
    "                # alert()\n",
    "            k=k+1\n",
    "            cv2.putText(frame,\"SMS sent\",(100,100),cv2.FONT_HERSHEY_COMPLEX,1,(0,255,0),2)\n",
    "        cv2.imshow(\"Frame\", frame)\n",
    "        if cv2.waitKey(1) & 0xFF == ord('q'): \n",
    "            break\n",
    "        cnt = n\n",
    "    else:\n",
    "        cnt -= 1\n",
    "    \n",
    "    \n",
    "    \n",
    "cv2.destroyAllWindows()\n",
    "video.release()\n"
   ]
  },
  {
   "cell_type": "code",
   "execution_count": null,
   "id": "d3ef5149",
   "metadata": {},
   "outputs": [],
   "source": []
  }
 ],
 "metadata": {
  "kernelspec": {
   "display_name": "Python 3 (ipykernel)",
   "language": "python",
   "name": "python3"
  },
  "language_info": {
   "codemirror_mode": {
    "name": "ipython",
    "version": 3
   },
   "file_extension": ".py",
   "mimetype": "text/x-python",
   "name": "python",
   "nbconvert_exporter": "python",
   "pygments_lexer": "ipython3",
   "version": "3.9.12"
  }
 },
 "nbformat": 4,
 "nbformat_minor": 5
}
